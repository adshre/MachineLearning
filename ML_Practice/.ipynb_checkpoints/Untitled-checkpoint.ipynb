{
 "cells": [
  {
   "cell_type": "code",
   "execution_count": 1,
   "metadata": {},
   "outputs": [
    {
     "data": {
      "text/plain": [
       "list"
      ]
     },
     "execution_count": 1,
     "metadata": {},
     "output_type": "execute_result"
    }
   ],
   "source": [
    "lst_example_1 =[]\n",
    "type(lst_example_1)"
   ]
  },
  {
   "cell_type": "code",
   "execution_count": 2,
   "metadata": {},
   "outputs": [
    {
     "data": {
      "text/plain": [
       "list"
      ]
     },
     "execution_count": 2,
     "metadata": {},
     "output_type": "execute_result"
    }
   ],
   "source": [
    "lst_example = list()\n",
    "type(lst_example)"
   ]
  },
  {
   "cell_type": "code",
   "execution_count": 35,
   "metadata": {},
   "outputs": [
    {
     "name": "stdout",
     "output_type": "stream",
     "text": [
      "['Practice', 'List', 1, 3, 'example', ['nested', 5]]\n"
     ]
    }
   ],
   "source": [
    "lst_example = ['Practice', 'List', 1, 3]\n",
    "lst_example.append(\"example\")\n",
    "lst_example.append(['nested',5]) # adds nested list to end as it is\n",
    "print(lst_example)"
   ]
  },
  {
   "cell_type": "code",
   "execution_count": 36,
   "metadata": {},
   "outputs": [
    {
     "name": "stdout",
     "output_type": "stream",
     "text": [
      "['Practice', 'List', 'insertedValue', 1, 3, 'example', ['nested', 5]]\n"
     ]
    }
   ],
   "source": [
    "lst_example.insert(2,'insertedValue')\n",
    "print(lst_example)"
   ]
  },
  {
   "cell_type": "code",
   "execution_count": 37,
   "metadata": {},
   "outputs": [
    {
     "name": "stdout",
     "output_type": "stream",
     "text": [
      "example\n",
      "4\n"
     ]
    }
   ],
   "source": [
    "print(lst_example[5]) # prints element at index 5\n",
    "print(lst_example.index(3)) # prints index of the element if in list"
   ]
  },
  {
   "cell_type": "code",
   "execution_count": 38,
   "metadata": {},
   "outputs": [
    {
     "name": "stdout",
     "output_type": "stream",
     "text": [
      "['Practice', 'List', 'insertedValue', 1, 3, 'example', ['nested', 5], 'difference', 9]\n"
     ]
    }
   ],
   "source": [
    "lst_example.extend(['difference',9]) # flattens list and adds at end\n",
    "print(lst_example)"
   ]
  },
  {
   "cell_type": "code",
   "execution_count": 39,
   "metadata": {},
   "outputs": [
    {
     "name": "stdout",
     "output_type": "stream",
     "text": [
      "['Practice', 'List', 'insertedValue', 1, 3, 'example', ['nested', 5], 'difference', 9]\n"
     ]
    }
   ],
   "source": [
    "lst_copy = lst_example.copy()\n",
    "print(lst_copy)"
   ]
  },
  {
   "cell_type": "code",
   "execution_count": 40,
   "metadata": {},
   "outputs": [
    {
     "name": "stdout",
     "output_type": "stream",
     "text": [
      "Count of example in list =  2\n",
      "List before removing example =  ['Practice', 'List', 'insertedValue', 1, 3, 'example', ['nested', 5], 'difference', 9, 'example']\n",
      "List after removing first occurence of example =  ['Practice', 'List', 'insertedValue', 1, 3, ['nested', 5], 'difference', 9, 'example']\n",
      "['Practice', 'List', 'insertedValue', 1, 3, ['nested', 5], 'difference', 9]\n"
     ]
    }
   ],
   "source": [
    "lst_example.append(\"example\")\n",
    "print(\"Count of example in list = \", lst_example.count(\"example\"))\n",
    "\n",
    "print(\"List before removing example = \", lst_example)\n",
    "lst_example.remove('example')\n",
    "print(\"List after removing first occurence of example = \", lst_example)\n",
    " \n",
    "lst_example.pop() # remove top element of list ,i.e at end\n",
    "print(lst_example)"
   ]
  },
  {
   "cell_type": "code",
   "execution_count": 41,
   "metadata": {},
   "outputs": [
    {
     "name": "stdout",
     "output_type": "stream",
     "text": [
      "[9, 'difference', ['nested', 5], 3, 1, 'insertedValue', 'List', 'Practice']\n"
     ]
    }
   ],
   "source": [
    "lst_example.reverse()\n",
    "print(lst_example)"
   ]
  },
  {
   "cell_type": "code",
   "execution_count": 42,
   "metadata": {},
   "outputs": [
    {
     "name": "stdout",
     "output_type": "stream",
     "text": [
      "[]\n",
      "['Practice', 'List', 'insertedValue', 1, 3, 'example', ['nested', 5], 'difference', 9]\n"
     ]
    }
   ],
   "source": [
    "lst_example.clear()\n",
    "print(lst_example)\n",
    "print(lst_copy) # Thus copy creates another reference and clearing original doesnot clear copy list"
   ]
  },
  {
   "cell_type": "code",
   "execution_count": 48,
   "metadata": {},
   "outputs": [
    {
     "name": "stdout",
     "output_type": "stream",
     "text": [
      "length of Practice =  8\n",
      "length of example =  7\n",
      "Sorted ascending list =  ['example', 'Practice']\n",
      "Sorted descending list =  ['Practice', 'example']\n"
     ]
    }
   ],
   "source": [
    "lst_example = [\"Practice\", \"example\"]\n",
    "print(\"length of Practice = \", len(\"Practice\"))\n",
    "print(\"length of example = \", len(\"example\"))\n",
    "def sortQueryCriteria(e):\n",
    "    return len(e)\n",
    "    \n",
    "lst_example.sort(key=sortQueryCriteria)\n",
    "print(\"Sorted ascending list = \", lst_example)\n",
    "\n",
    "lst_example.sort(key=sortQueryCriteria, reverse=True)\n",
    "print(\"Sorted descending list = \", lst_example)"
   ]
  },
  {
   "cell_type": "code",
   "execution_count": null,
   "metadata": {},
   "outputs": [],
   "source": []
  },
  {
   "cell_type": "code",
   "execution_count": null,
   "metadata": {},
   "outputs": [],
   "source": []
  }
 ],
 "metadata": {
  "kernelspec": {
   "display_name": "Python 3",
   "language": "python",
   "name": "python3"
  },
  "language_info": {
   "codemirror_mode": {
    "name": "ipython",
    "version": 3
   },
   "file_extension": ".py",
   "mimetype": "text/x-python",
   "name": "python",
   "nbconvert_exporter": "python",
   "pygments_lexer": "ipython3",
   "version": "3.8.3"
  }
 },
 "nbformat": 4,
 "nbformat_minor": 4
}
