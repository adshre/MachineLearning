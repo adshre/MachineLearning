{
 "cells": [
  {
   "cell_type": "code",
   "execution_count": null,
   "metadata": {},
   "outputs": [],
   "source": [
    "\"\"\"\n",
    "Jupter shortcuts:\n",
    "\n",
    "https://towardsdatascience.com/jypyter-notebook-shortcuts-bf0101a98330\n",
    "\n",
    "1. Press Esc and press A to insert cell above \n",
    "2. Press Esc and press B to insert cell below\n",
    "3. Press Esc and D + D to delete current cell \n",
    "4. Press shift + enter to run current cell and select below\n",
    "5. Press ctrl + enter to just run current cell\n",
    "6. Press shift + tab to libraries documentation and inbuilt function description.\n",
    "7. Press tab to check all inbuilt function name\n",
    "\"\"\""
   ]
  },
  {
   "cell_type": "code",
   "execution_count": null,
   "metadata": {},
   "outputs": [],
   "source": [
    "\"\"\"\n",
    "Learning link : \n",
    "https://github.com/krishnaik06/Machine-Learning-in-90-days/blob/master/Section%201-%20Python%20Crash%20Course/2-Python%20List%2CDictionary%2CSets%20etc.ipynb\n",
    "\"\"\""
   ]
  },
  {
   "cell_type": "code",
   "execution_count": null,
   "metadata": {},
   "outputs": [],
   "source": [
    "By definition, isdecimal() ⊆ isdigit() ⊆ isnumeric(). That is, if a string is decimal, then it'll also be digit and numeric.\n",
    "\n",
    "Therefore, given a string s and test it with those three methods, there'll only be 4 types of results.\n",
    "\n",
    "+-------------+-----------+-------------+----------------------------------+\n",
    "| isdecimal() | isdigit() | isnumeric() |          Example                 |\n",
    "+-------------+-----------+-------------+----------------------------------+\n",
    "|    True     |    True   |    True     | \"038\", \"੦੩੮\", \"０３８\"           |\n",
    "|  False      |    True   |    True     | \"⁰³⁸\", \"🄀⒊⒏\", \"⓪③⑧\"          |\n",
    "|  False      |  False    |    True     | \"↉⅛⅘\", \"ⅠⅢⅧ\", \"⑩⑬㊿\", \"壹貳參\"  |\n",
    "|  False      |  False    |  False      | \"abc\", \"38.0\", \"-38\"             |"
   ]
  },
  {
   "cell_type": "code",
   "execution_count": null,
   "metadata": {},
   "outputs": [],
   "source": [
    "'''\n",
    "casefold vs lower.\n",
    "String casefold() to match caseless string. \n",
    "German letter ß is equivalent to ss so you can compare that as well.\n",
    "\n",
    "firstString = \"der Fluß\"\n",
    "secondString = \"der Fluss\"\n",
    "\n",
    "# ß is equivalent to ss\n",
    "if firstString.casefold() == secondString.casefold():\n",
    "    print('The strings are equal.')\n",
    "else:\n",
    "    print('The strings are not equal.')\n",
    "'''   "
   ]
  },
  {
   "cell_type": "code",
   "execution_count": 68,
   "metadata": {},
   "outputs": [
    {
     "name": "stdout",
     "output_type": "stream",
     "text": [
      "Is string decimal like '1234' =  False\n",
      "Is string digit like 1234 =  False\n",
      "Is string numeric like 1234 =  False\n"
     ]
    }
   ],
   "source": [
    "print(\"Is string decimal like '1234' = \", str_example.isdecimal())\n",
    "print(\"Is string digit like 1234 = \", str_example.isdigit())\n",
    "print(\"Is string numeric like 1234 = \", str_example.isnumeric())"
   ]
  },
  {
   "cell_type": "code",
   "execution_count": 71,
   "metadata": {},
   "outputs": [
    {
     "name": "stdout",
     "output_type": "stream",
     "text": [
      "Is string contaning each word starting with an upper case letter  =  False\n",
      "Is string contaning  all words in an upper case letter  =  False\n",
      "String in lower =  practicenotebook\tpractice12\n"
     ]
    }
   ],
   "source": [
    "print(\"Is string contaning each word starting with an upper case letter  = \", str_example.istitle())\n",
    "print(\"Is string contaning  all words in an upper case letter  = \", str_example.isalpha())\n",
    "print(\"String in lower = \", str_example.lower())"
   ]
  },
  {
   "cell_type": "code",
   "execution_count": 74,
   "metadata": {},
   "outputs": [
    {
     "name": "stdout",
     "output_type": "stream",
     "text": [
      "This#is#example\n"
     ]
    }
   ],
   "source": [
    "'''\n",
    "The join() method takes all items in an iterable and joins them into one string.\n",
    "A string must be specified as the separator.\n",
    "'''\n",
    "\n",
    "str_tuple = (\"This\",\"is\",\"example\")\n",
    "print('#'.join(str_tuple))"
   ]
  }
 ],
 "metadata": {
  "kernelspec": {
   "display_name": "Python 3",
   "language": "python",
   "name": "python3"
  },
  "language_info": {
   "codemirror_mode": {
    "name": "ipython",
    "version": 3
   },
   "file_extension": ".py",
   "mimetype": "text/x-python",
   "name": "python",
   "nbconvert_exporter": "python",
   "pygments_lexer": "ipython3",
   "version": "3.8.3"
  }
 },
 "nbformat": 4,
 "nbformat_minor": 4
}
