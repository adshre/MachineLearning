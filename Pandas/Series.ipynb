{
 "cells": [
  {
   "cell_type": "code",
   "execution_count": 1,
   "metadata": {},
   "outputs": [],
   "source": [
    "#import libraries\n",
    "import numpy as np\n",
    "import pandas as pd"
   ]
  },
  {
   "cell_type": "code",
   "execution_count": 8,
   "metadata": {},
   "outputs": [
    {
     "data": {
      "text/plain": [
       "a   -0.193503\n",
       "b    0.123365\n",
       "c   -0.592958\n",
       "d   -1.640908\n",
       "e   -1.399664\n",
       "dtype: float64"
      ]
     },
     "execution_count": 8,
     "metadata": {},
     "output_type": "execute_result"
    }
   ],
   "source": [
    "#from ndarray\n",
    "'''\n",
    "If data is an ndarray, index must be the same length as data.\n",
    "If no index is passed, one will be created having values [0, ..., len(data) - 1].\n",
    "'''\n",
    "#with index\n",
    "s = pd.Series(np.random.randn(5), index=['a','b','c','d','e'])\n",
    "s"
   ]
  },
  {
   "cell_type": "code",
   "execution_count": 9,
   "metadata": {},
   "outputs": [
    {
     "data": {
      "text/plain": [
       "Index(['a', 'b', 'c', 'd', 'e'], dtype='object')"
      ]
     },
     "execution_count": 9,
     "metadata": {},
     "output_type": "execute_result"
    }
   ],
   "source": [
    "s.index"
   ]
  },
  {
   "cell_type": "code",
   "execution_count": 21,
   "metadata": {},
   "outputs": [
    {
     "data": {
      "text/plain": [
       "0    0.740156\n",
       "1    1.245389\n",
       "2   -0.678266\n",
       "3   -1.647999\n",
       "4   -1.633785\n",
       "dtype: float64"
      ]
     },
     "execution_count": 21,
     "metadata": {},
     "output_type": "execute_result"
    }
   ],
   "source": [
    "#without index\n",
    "s = pd.Series(np.random.randn(5))\n",
    "s"
   ]
  },
  {
   "cell_type": "code",
   "execution_count": 15,
   "metadata": {},
   "outputs": [
    {
     "data": {
      "text/plain": [
       "b    1\n",
       "a    0\n",
       "c    2\n",
       "dtype: int64"
      ]
     },
     "execution_count": 15,
     "metadata": {},
     "output_type": "execute_result"
    }
   ],
   "source": [
    "#from dict\n",
    "'''\n",
    "When the data is a dict, and an index is not passed, \n",
    "the Series index will be ordered by the dict’s insertion order,\n",
    "if you’re using Python version >= 3.6 and Pandas version >= 0.23.\n",
    "\n",
    "If you’re using Python < 3.6 or Pandas < 0.23, \n",
    "and an index is not passed, the Series index will be the lexically ordered list of dict keys.\n",
    "(i.e. ['a', 'b', 'c'] rather than ['b', 'a', 'c']).\n",
    "'''\n",
    "#without index\n",
    "d = {'b': 1, 'a': 0, 'c': 2}\n",
    "pd.Series(d)"
   ]
  },
  {
   "cell_type": "code",
   "execution_count": 16,
   "metadata": {},
   "outputs": [
    {
     "data": {
      "text/plain": [
       "a    0.0\n",
       "b    1.0\n",
       "c    2.0\n",
       "d    NaN\n",
       "dtype: float64"
      ]
     },
     "execution_count": 16,
     "metadata": {},
     "output_type": "execute_result"
    }
   ],
   "source": [
    "#with index\n",
    "'''\n",
    "If an index is passed, the values in data corresponding to the labels in the index will be pulled out.\n",
    "'''\n",
    "pd.Series(d, index = ['a','b','c','d'])"
   ]
  },
  {
   "cell_type": "code",
   "execution_count": 17,
   "metadata": {},
   "outputs": [
    {
     "data": {
      "text/plain": [
       "1    5.0\n",
       "2    5.0\n",
       "3    5.0\n",
       "dtype: float64"
      ]
     },
     "execution_count": 17,
     "metadata": {},
     "output_type": "execute_result"
    }
   ],
   "source": [
    "#from Scalar\n",
    "'''\n",
    "If data is a scalar value, an index must be provided. The value will be repeated to match the length of index.\n",
    "'''\n",
    "pd.Series(5., index = [1,2,3])"
   ]
  },
  {
   "cell_type": "code",
   "execution_count": 23,
   "metadata": {},
   "outputs": [
    {
     "name": "stdout",
     "output_type": "stream",
     "text": [
      "0.7401558696182432\n",
      "------\n",
      "0    0.740156\n",
      "1    1.245389\n",
      "2   -0.678266\n",
      "dtype: float64\n",
      "------\n",
      "3   -1.647999\n",
      "1    1.245389\n",
      "dtype: float64\n",
      "------\n",
      "0    2.096262\n",
      "1    3.474285\n",
      "2    0.507496\n",
      "3    0.192435\n",
      "4    0.195189\n",
      "dtype: float64\n"
     ]
    }
   ],
   "source": [
    "#series is nd-array like\n",
    "'''\n",
    "0    0.740156\n",
    "1    1.245389\n",
    "2   -0.678266\n",
    "3   -1.647999\n",
    "4   -1.633785\n",
    "dtype: float64\n",
    "'''\n",
    "\n",
    "print(s[0])\n",
    "print('------')\n",
    "print(s[:3])\n",
    "print('------')\n",
    "print(s[[3,1]])\n",
    "print('------')\n",
    "print(np.exp(s))"
   ]
  },
  {
   "cell_type": "code",
   "execution_count": 24,
   "metadata": {},
   "outputs": [
    {
     "data": {
      "text/plain": [
       "dtype('float64')"
      ]
     },
     "execution_count": 24,
     "metadata": {},
     "output_type": "execute_result"
    }
   ],
   "source": [
    "# dtype of series\n",
    "s.dtype"
   ]
  },
  {
   "cell_type": "code",
   "execution_count": 25,
   "metadata": {},
   "outputs": [
    {
     "data": {
      "text/plain": [
       "<PandasArray>\n",
       "[ 0.7401558696182432,   1.245388733151932,  -0.678266229285069,\n",
       " -1.6479987180516065, -1.6337854072592712]\n",
       "Length: 5, dtype: float64"
      ]
     },
     "execution_count": 25,
     "metadata": {},
     "output_type": "execute_result"
    }
   ],
   "source": [
    "#If you need the actual array backing a Series, use Series.array.\n",
    "#Series.array will always be an ExtensionArray.\n",
    "s.array"
   ]
  },
  {
   "cell_type": "code",
   "execution_count": 26,
   "metadata": {},
   "outputs": [
    {
     "data": {
      "text/plain": [
       "array([ 0.74015587,  1.24538873, -0.67826623, -1.64799872, -1.63378541])"
      ]
     },
     "execution_count": 26,
     "metadata": {},
     "output_type": "execute_result"
    }
   ],
   "source": [
    "#While Series is ndarray-like, if you need an actual ndarray, then use Series.to_numpy().\n",
    "s.to_numpy()"
   ]
  },
  {
   "cell_type": "code",
   "execution_count": 31,
   "metadata": {},
   "outputs": [
    {
     "name": "stdout",
     "output_type": "stream",
     "text": [
      "1.245388733151932\n",
      "-----\n",
      "0    0.740156\n",
      "1    1.245389\n",
      "2   -0.678266\n",
      "3   -1.647999\n",
      "4   -1.633785\n",
      "5    1.400000\n",
      "dtype: float64\n"
     ]
    }
   ],
   "source": [
    "#series is dict like\n",
    "print(s[1])\n",
    "print('-----')\n",
    "s[5] = 1.4\n",
    "print(s)"
   ]
  },
  {
   "cell_type": "code",
   "execution_count": 34,
   "metadata": {},
   "outputs": [
    {
     "name": "stdout",
     "output_type": "stream",
     "text": [
      "True\n",
      "-------\n",
      "nan\n"
     ]
    }
   ],
   "source": [
    "print(5 in s)\n",
    "print('-------')\n",
    "'''\n",
    "If a label is not contained, an exception is raised, \n",
    "hence using the get method, a missing label will return None or specified default:\n",
    "'''\n",
    "\n",
    "print(s.get(9, np.nan))"
   ]
  },
  {
   "cell_type": "code",
   "execution_count": 36,
   "metadata": {},
   "outputs": [
    {
     "name": "stdout",
     "output_type": "stream",
     "text": [
      "0    1.480312\n",
      "1    2.490777\n",
      "2   -1.356532\n",
      "3   -3.295997\n",
      "4   -3.267571\n",
      "5    2.800000\n",
      "dtype: float64\n",
      "------\n",
      "0    1.480312\n",
      "1    2.490777\n",
      "2   -1.356532\n",
      "3   -3.295997\n",
      "4   -3.267571\n",
      "5    2.800000\n",
      "dtype: float64\n"
     ]
    }
   ],
   "source": [
    "# Vectorized operations and label alignment with Series\n",
    "print(s+s)\n",
    "print('------')\n",
    "print(s*2)"
   ]
  },
  {
   "cell_type": "code",
   "execution_count": 44,
   "metadata": {},
   "outputs": [
    {
     "data": {
      "text/plain": [
       "0         NaN\n",
       "1    2.490777\n",
       "2   -1.356532\n",
       "3   -3.295997\n",
       "4   -3.267571\n",
       "5         NaN\n",
       "dtype: float64"
      ]
     },
     "execution_count": 44,
     "metadata": {},
     "output_type": "execute_result"
    }
   ],
   "source": [
    "# exclude 0 index value series and sum with excluded last index value in series\n",
    "'''\n",
    "If a label is not found in one Series or the other, the result will be marked as missing NaN. \n",
    "'''\n",
    "s[1:]+s[:-1]"
   ]
  },
  {
   "cell_type": "code",
   "execution_count": 46,
   "metadata": {},
   "outputs": [
    {
     "data": {
      "text/plain": [
       "0    0.621814\n",
       "1   -1.765640\n",
       "2    0.617799\n",
       "3    1.443725\n",
       "4    1.587964\n",
       "Name: SeriesTuitorial, dtype: float64"
      ]
     },
     "execution_count": 46,
     "metadata": {},
     "output_type": "execute_result"
    }
   ],
   "source": [
    "#Series name attribute\n",
    "s = pd.Series(np.random.randn(5), name='SeriesTuitorial')\n",
    "s"
   ]
  },
  {
   "cell_type": "code",
   "execution_count": 47,
   "metadata": {},
   "outputs": [
    {
     "data": {
      "text/plain": [
       "0    0.621814\n",
       "1   -1.765640\n",
       "2    0.617799\n",
       "3    1.443725\n",
       "4    1.587964\n",
       "Name: renamed, dtype: float64"
      ]
     },
     "execution_count": 47,
     "metadata": {},
     "output_type": "execute_result"
    }
   ],
   "source": [
    "'''\n",
    "s and d are two different objects\n",
    "'''\n",
    "d = s.rename(\"renamed\")\n",
    "d"
   ]
  },
  {
   "cell_type": "code",
   "execution_count": null,
   "metadata": {},
   "outputs": [],
   "source": []
  }
 ],
 "metadata": {
  "kernelspec": {
   "display_name": "Python 3",
   "language": "python",
   "name": "python3"
  },
  "language_info": {
   "codemirror_mode": {
    "name": "ipython",
    "version": 3
   },
   "file_extension": ".py",
   "mimetype": "text/x-python",
   "name": "python",
   "nbconvert_exporter": "python",
   "pygments_lexer": "ipython3",
   "version": "3.8.3"
  }
 },
 "nbformat": 4,
 "nbformat_minor": 4
}
